{
 "cells": [
  {
   "cell_type": "code",
   "execution_count": 1,
   "id": "5c3aae21",
   "metadata": {},
   "outputs": [],
   "source": [
    "from qchar import *\n",
    "from IPython.display import display, Math"
   ]
  },
  {
   "cell_type": "code",
   "execution_count": 7,
   "id": "1f22c92c",
   "metadata": {},
   "outputs": [
    {
     "data": {
      "text/latex": [
       "$\\displaystyle \\text{qchar of }\\mathbb{1}_{0}\\mathbb{2}_{3}\\text{ for }A2:$"
      ],
      "text/plain": [
       "<IPython.core.display.Math object>"
      ]
     },
     "metadata": {},
     "output_type": "display_data"
    },
    {
     "data": {
      "text/latex": [
       "$\\displaystyle \\mathbb{1}_{0}\\mathbb{2}_{3} + \\mathbb{1}_{2}^{-1}\\mathbb{2}_{1}\\mathbb{2}_{3} + \\mathbb{1}_{0}\\mathbb{1}_{4}\\mathbb{2}_{5}^{-1} + \\mathbb{1}_{2}^{-1}\\mathbb{1}_{4}\\mathbb{2}_{5}^{-1}\\mathbb{2}_{1} + \\mathbb{1}_{4}\\mathbb{2}_{3}^{-1}\\mathbb{2}_{5}^{-1} + \\mathbb{1}_{6}^{-1}\\mathbb{1}_{0} + \\mathbb{1}_{2}^{-1}\\mathbb{1}_{6}^{-1}\\mathbb{2}_{1} + \\mathbb{1}_{6}^{-1}\\mathbb{2}_{3}^{-1}\\ .$"
      ],
      "text/plain": [
       "<IPython.core.display.Math object>"
      ]
     },
     "metadata": {},
     "output_type": "display_data"
    },
    {
     "name": "stdout",
     "output_type": "stream",
     "text": [
      "Length of qchar = 8\n",
      "Number of higher degree monomials = 0\n",
      "Dominant monomials:\n"
     ]
    },
    {
     "data": {
      "text/latex": [
       "$\\displaystyle \\mathbb{1}_{0}\\mathbb{2}_{3}$"
      ],
      "text/plain": [
       "<IPython.core.display.Math object>"
      ]
     },
     "metadata": {},
     "output_type": "display_data"
    },
    {
     "name": "stdout",
     "output_type": "stream",
     "text": [
      "Inadmissible monomials:\n"
     ]
    }
   ],
   "source": [
    "mo = monomial([node(1,0,1),node(2,3,1)])\n",
    "s = 'A2'\n",
    "qpol = qchar(mo, lie(s))\n",
    "display(Math(rf'\\text{{qchar of }}' + str(mo) + rf'\\text{{ for }}' + s + ':'))\n",
    "display(Math(str(qpol) + '\\ .'))\n",
    "print('Length of qchar = ' + str(length(qpol)))\n",
    "print('Number of higher degree monomials = ' + str(squares(qpol)))\n",
    "print('Dominant monomials:')\n",
    "temp = []\n",
    "for x in qpol.terms:\n",
    "   boo = True\n",
    "   for y in x.monom.nodes:\n",
    "      if y.sup < 0:\n",
    "         boo = False\n",
    "   if boo:\n",
    "      temp.append(x)\n",
    "for x in temp:\n",
    "   display(Math(str(x)))\n",
    "print('Inadmissible monomials:')\n",
    "for x in Inadmissible:\n",
    "   print(x)"
   ]
  },
  {
   "cell_type": "code",
   "execution_count": null,
   "id": "9765dada",
   "metadata": {},
   "outputs": [],
   "source": []
  }
 ],
 "metadata": {
  "kernelspec": {
   "display_name": "base",
   "language": "python",
   "name": "python3"
  },
  "language_info": {
   "codemirror_mode": {
    "name": "ipython",
    "version": 3
   },
   "file_extension": ".py",
   "mimetype": "text/x-python",
   "name": "python",
   "nbconvert_exporter": "python",
   "pygments_lexer": "ipython3",
   "version": "3.11.5"
  }
 },
 "nbformat": 4,
 "nbformat_minor": 5
}
